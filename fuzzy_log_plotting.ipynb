{
 "cells": [
  {
   "cell_type": "code",
   "execution_count": 157,
   "metadata": {
    "collapsed": true
   },
   "outputs": [],
   "source": [
    "import pandas as pd \n",
    "import numpy as np \n",
    "import os \n",
    "import csv\n",
    "pd.set_option('display.max_colwidth', -1)"
   ]
  },
  {
   "cell_type": "code",
   "execution_count": 3,
   "metadata": {},
   "outputs": [],
   "source": [
    "os.chdir(r'C:\\Users\\Bijan\\Desktop\\fuzzy_files')"
   ]
  },
  {
   "cell_type": "code",
   "execution_count": 22,
   "metadata": {},
   "outputs": [],
   "source": [
    "with open('fuzz_log.txt','rb') as f :\n",
    "    "
   ]
  },
  {
   "cell_type": "code",
   "execution_count": 159,
   "metadata": {
    "collapsed": true
   },
   "outputs": [],
   "source": [
    "timestamp=[]\n",
    "response_time=[]\n",
    "ip=[]\n",
    "text=[]"
   ]
  },
  {
   "cell_type": "code",
   "execution_count": 160,
   "metadata": {},
   "outputs": [],
   "source": [
    "with open(\"fuzz_log.txt\",'r',encoding=\"utf8\") as f:\n",
    "    c = csv.reader(f, delimiter=' ', skipinitialspace=True)\n",
    "    for line in c:\n",
    "        if 'OK' in line:\n",
    "            timestamp.append(line[0]+' '+ line[1])\n",
    "            response_time.append(line[2])\n",
    "            ip.append(line[3])\n",
    "            text.append(''.join(line[5:-2]))"
   ]
  },
  {
   "cell_type": "code",
   "execution_count": 161,
   "metadata": {},
   "outputs": [],
   "source": [
    "df=pd.DataFrame({'timestamp':timestamp,\"response_time\":response_time,\"ip\":ip,'searched_text':text})"
   ]
  },
  {
   "cell_type": "code",
   "execution_count": 162,
   "metadata": {},
   "outputs": [
    {
     "data": {
      "text/html": [
       "<div>\n",
       "<style>\n",
       "    .dataframe thead tr:only-child th {\n",
       "        text-align: right;\n",
       "    }\n",
       "\n",
       "    .dataframe thead th {\n",
       "        text-align: left;\n",
       "    }\n",
       "\n",
       "    .dataframe tbody tr th {\n",
       "        vertical-align: top;\n",
       "    }\n",
       "</style>\n",
       "<table border=\"1\" class=\"dataframe\">\n",
       "  <thead>\n",
       "    <tr style=\"text-align: right;\">\n",
       "      <th></th>\n",
       "      <th>ip</th>\n",
       "      <th>response_time</th>\n",
       "      <th>searched_text</th>\n",
       "      <th>timestamp</th>\n",
       "    </tr>\n",
       "  </thead>\n",
       "  <tbody>\n",
       "    <tr>\n",
       "      <th>0</th>\n",
       "      <td>10.20.15.193</td>\n",
       "      <td>0.11055135726928711</td>\n",
       "      <td>http/vehicle/sif?</td>\n",
       "      <td>[2018-Feb-08 14:17]</td>\n",
       "    </tr>\n",
       "    <tr>\n",
       "      <th>1</th>\n",
       "      <td>10.20.15.193</td>\n",
       "      <td>0.11810517311096191</td>\n",
       "      <td>http/vehicle/sift?</td>\n",
       "      <td>[2018-Feb-08 14:17]</td>\n",
       "    </tr>\n",
       "    <tr>\n",
       "      <th>2</th>\n",
       "      <td>10.20.15.193</td>\n",
       "      <td>0.10148262977600098</td>\n",
       "      <td>http/vehicle/swi?</td>\n",
       "      <td>[2018-Feb-08 14:17]</td>\n",
       "    </tr>\n",
       "    <tr>\n",
       "      <th>3</th>\n",
       "      <td>10.20.15.193</td>\n",
       "      <td>0.09942364692687988</td>\n",
       "      <td>http/vehicle/swif?</td>\n",
       "      <td>[2018-Feb-08 14:17]</td>\n",
       "    </tr>\n",
       "    <tr>\n",
       "      <th>4</th>\n",
       "      <td>10.20.15.193</td>\n",
       "      <td>0.11459016799926758</td>\n",
       "      <td>http/vehicle/swiftz?</td>\n",
       "      <td>[2018-Feb-08 14:17]</td>\n",
       "    </tr>\n",
       "  </tbody>\n",
       "</table>\n",
       "</div>"
      ],
      "text/plain": [
       "             ip        response_time         searched_text  \\\n",
       "0  10.20.15.193  0.11055135726928711  http/vehicle/sif?      \n",
       "1  10.20.15.193  0.11810517311096191  http/vehicle/sift?     \n",
       "2  10.20.15.193  0.10148262977600098  http/vehicle/swi?      \n",
       "3  10.20.15.193  0.09942364692687988  http/vehicle/swif?     \n",
       "4  10.20.15.193  0.11459016799926758  http/vehicle/swiftz?   \n",
       "\n",
       "             timestamp  \n",
       "0  [2018-Feb-08 14:17]  \n",
       "1  [2018-Feb-08 14:17]  \n",
       "2  [2018-Feb-08 14:17]  \n",
       "3  [2018-Feb-08 14:17]  \n",
       "4  [2018-Feb-08 14:17]  "
      ]
     },
     "execution_count": 162,
     "metadata": {},
     "output_type": "execute_result"
    }
   ],
   "source": [
    "df.head()"
   ]
  },
  {
   "cell_type": "code",
   "execution_count": 163,
   "metadata": {
    "collapsed": true
   },
   "outputs": [],
   "source": [
    "df['timestamp']=df['timestamp'].map(lambda x: x.lstrip('[').rstrip(']'))"
   ]
  },
  {
   "cell_type": "code",
   "execution_count": 164,
   "metadata": {},
   "outputs": [],
   "source": [
    "df['timestamp']=pd.to_datetime(df.timestamp)"
   ]
  },
  {
   "cell_type": "code",
   "execution_count": 165,
   "metadata": {
    "collapsed": true
   },
   "outputs": [],
   "source": [
    "df['response_time']=df['response_time'].astype('float')"
   ]
  },
  {
   "cell_type": "markdown",
   "metadata": {},
   "source": [
    "# plotting response time "
   ]
  },
  {
   "cell_type": "code",
   "execution_count": 166,
   "metadata": {
    "collapsed": true
   },
   "outputs": [],
   "source": [
    "import matplotlib.pyplot as plt \n",
    "import seaborn as sns\n",
    "%matplotlib inline\n",
    "import bokeh "
   ]
  },
  {
   "cell_type": "markdown",
   "metadata": {},
   "source": [
    "### 1. mean response time"
   ]
  },
  {
   "cell_type": "code",
   "execution_count": 167,
   "metadata": {},
   "outputs": [
    {
     "data": {
      "text/plain": [
       "0.13590450247123786"
      ]
     },
     "execution_count": 167,
     "metadata": {},
     "output_type": "execute_result"
    }
   ],
   "source": [
    "df.response_time.mean()"
   ]
  },
  {
   "cell_type": "markdown",
   "metadata": {},
   "source": [
    "### 2. median response time"
   ]
  },
  {
   "cell_type": "code",
   "execution_count": 194,
   "metadata": {},
   "outputs": [
    {
     "data": {
      "text/plain": [
       "0.12009358406066895"
      ]
     },
     "execution_count": 194,
     "metadata": {},
     "output_type": "execute_result"
    }
   ],
   "source": [
    "df.response_time.median()"
   ]
  },
  {
   "cell_type": "markdown",
   "metadata": {},
   "source": [
    "### 3. Standard deviation of response time"
   ]
  },
  {
   "cell_type": "code",
   "execution_count": 169,
   "metadata": {},
   "outputs": [
    {
     "data": {
      "text/plain": [
       "0.06780074159392784"
      ]
     },
     "execution_count": 169,
     "metadata": {},
     "output_type": "execute_result"
    }
   ],
   "source": [
    "df.response_time.std()"
   ]
  },
  {
   "cell_type": "markdown",
   "metadata": {},
   "source": [
    "### 4. plotting"
   ]
  },
  {
   "cell_type": "code",
   "execution_count": 170,
   "metadata": {},
   "outputs": [
    {
     "data": {
      "text/plain": [
       "<matplotlib.figure.Figure at 0x170964124e0>"
      ]
     },
     "metadata": {},
     "output_type": "display_data"
    }
   ],
   "source": [
    "fig=plt.figure()"
   ]
  },
  {
   "cell_type": "code",
   "execution_count": 171,
   "metadata": {},
   "outputs": [
    {
     "data": {
      "image/png": "[encoded data removed]",
      "text/plain": [
       "<matplotlib.figure.Figure at 0x170963f1c88>"
      ]
     },
     "metadata": {},
     "output_type": "display_data"
    }
   ],
   "source": [
    "plt.figure(figsize=(20,10))\n",
    "plt.plot(df.timestamp,df.response_time)\n",
    "plt.legend('response- time ')\n",
    "plt.xlabel('time')\n",
    "plt.ylabel('response time in seconds')\n",
    "plt.show()"
   ]
  },
  {
   "cell_type": "code",
   "execution_count": 175,
   "metadata": {},
   "outputs": [
    {
     "data": {
      "text/html": [
       "<div>\n",
       "<style>\n",
       "    .dataframe thead tr:only-child th {\n",
       "        text-align: right;\n",
       "    }\n",
       "\n",
       "    .dataframe thead th {\n",
       "        text-align: left;\n",
       "    }\n",
       "\n",
       "    .dataframe tbody tr th {\n",
       "        vertical-align: top;\n",
       "    }\n",
       "</style>\n",
       "<table border=\"1\" class=\"dataframe\">\n",
       "  <thead>\n",
       "    <tr style=\"text-align: right;\">\n",
       "      <th></th>\n",
       "      <th>ip</th>\n",
       "      <th>response_time</th>\n",
       "      <th>searched_text</th>\n",
       "      <th>timestamp</th>\n",
       "    </tr>\n",
       "  </thead>\n",
       "  <tbody>\n",
       "    <tr>\n",
       "      <th>4102</th>\n",
       "      <td>10.20.15.193</td>\n",
       "      <td>1.216219</td>\n",
       "      <td>http/vehicle/MarutiSuzukiSwiftVxiAbs(1298cc)(Petrol?</td>\n",
       "      <td>2018-02-11 12:09:00</td>\n",
       "    </tr>\n",
       "    <tr>\n",
       "      <th>4104</th>\n",
       "      <td>10.20.16.120</td>\n",
       "      <td>1.181865</td>\n",
       "      <td>http/vehicle/MarutiSuzukiSwiftVxiAbs(1298?</td>\n",
       "      <td>2018-02-11 12:09:00</td>\n",
       "    </tr>\n",
       "    <tr>\n",
       "      <th>4105</th>\n",
       "      <td>10.20.16.120</td>\n",
       "      <td>1.100674</td>\n",
       "      <td>http/vehicle/MarutiSuzukiSwiftVxiAbs(129?</td>\n",
       "      <td>2018-02-11 12:09:00</td>\n",
       "    </tr>\n",
       "    <tr>\n",
       "      <th>4106</th>\n",
       "      <td>10.20.16.120</td>\n",
       "      <td>1.077967</td>\n",
       "      <td>http/vehicle/Mariyualtok?</td>\n",
       "      <td>2018-02-11 12:09:00</td>\n",
       "    </tr>\n",
       "    <tr>\n",
       "      <th>6027</th>\n",
       "      <td>10.20.15.193</td>\n",
       "      <td>1.065219</td>\n",
       "      <td>http/vehicle/HyundaiGrandi101.2kappaDualVtvt5spSpo(1197cc)(Petrol)?</td>\n",
       "      <td>2018-02-12 23:10:00</td>\n",
       "    </tr>\n",
       "    <tr>\n",
       "      <th>4101</th>\n",
       "      <td>10.20.16.120</td>\n",
       "      <td>1.055851</td>\n",
       "      <td>http/vehicle/MarutiSuzukiSwiftVxiAbs(1298c?</td>\n",
       "      <td>2018-02-11 12:09:00</td>\n",
       "    </tr>\n",
       "    <tr>\n",
       "      <th>4100</th>\n",
       "      <td>10.20.16.120</td>\n",
       "      <td>1.013644</td>\n",
       "      <td>http/vehicle/MarutiSuzukiSwiftVxiAbs(1298cc?</td>\n",
       "      <td>2018-02-11 12:09:00</td>\n",
       "    </tr>\n",
       "    <tr>\n",
       "      <th>6028</th>\n",
       "      <td>10.20.15.193</td>\n",
       "      <td>0.988339</td>\n",
       "      <td>http/vehicle/HyundaiGrandi101.2kappaDualVtvt5spSp(1197cc)(Petrol)?</td>\n",
       "      <td>2018-02-12 23:10:00</td>\n",
       "    </tr>\n",
       "    <tr>\n",
       "      <th>4108</th>\n",
       "      <td>10.20.16.120</td>\n",
       "      <td>0.987498</td>\n",
       "      <td>http/vehicle/MarutiSuzukiSwiftVxiAbs(1298cc)?</td>\n",
       "      <td>2018-02-11 12:09:00</td>\n",
       "    </tr>\n",
       "    <tr>\n",
       "      <th>4110</th>\n",
       "      <td>10.20.15.193</td>\n",
       "      <td>0.957844</td>\n",
       "      <td>http/vehicle/MarutiSuzukiSwiftVxiAbs?</td>\n",
       "      <td>2018-02-11 12:09:00</td>\n",
       "    </tr>\n",
       "  </tbody>\n",
       "</table>\n",
       "</div>"
      ],
      "text/plain": [
       "                ip  response_time  \\\n",
       "4102  10.20.15.193  1.216219        \n",
       "4104  10.20.16.120  1.181865        \n",
       "4105  10.20.16.120  1.100674        \n",
       "4106  10.20.16.120  1.077967        \n",
       "6027  10.20.15.193  1.065219        \n",
       "4101  10.20.16.120  1.055851        \n",
       "4100  10.20.16.120  1.013644        \n",
       "6028  10.20.15.193  0.988339        \n",
       "4108  10.20.16.120  0.987498        \n",
       "4110  10.20.15.193  0.957844        \n",
       "\n",
       "                                                            searched_text  \\\n",
       "4102  http/vehicle/MarutiSuzukiSwiftVxiAbs(1298cc)(Petrol?                  \n",
       "4104  http/vehicle/MarutiSuzukiSwiftVxiAbs(1298?                            \n",
       "4105  http/vehicle/MarutiSuzukiSwiftVxiAbs(129?                             \n",
       "4106  http/vehicle/Mariyualtok?                                             \n",
       "6027  http/vehicle/HyundaiGrandi101.2kappaDualVtvt5spSpo(1197cc)(Petrol)?   \n",
       "4101  http/vehicle/MarutiSuzukiSwiftVxiAbs(1298c?                           \n",
       "4100  http/vehicle/MarutiSuzukiSwiftVxiAbs(1298cc?                          \n",
       "6028  http/vehicle/HyundaiGrandi101.2kappaDualVtvt5spSp(1197cc)(Petrol)?    \n",
       "4108  http/vehicle/MarutiSuzukiSwiftVxiAbs(1298cc)?                         \n",
       "4110  http/vehicle/MarutiSuzukiSwiftVxiAbs?                                 \n",
       "\n",
       "               timestamp  \n",
       "4102 2018-02-11 12:09:00  \n",
       "4104 2018-02-11 12:09:00  \n",
       "4105 2018-02-11 12:09:00  \n",
       "4106 2018-02-11 12:09:00  \n",
       "6027 2018-02-12 23:10:00  \n",
       "4101 2018-02-11 12:09:00  \n",
       "4100 2018-02-11 12:09:00  \n",
       "6028 2018-02-12 23:10:00  \n",
       "4108 2018-02-11 12:09:00  \n",
       "4110 2018-02-11 12:09:00  "
      ]
     },
     "execution_count": 175,
     "metadata": {},
     "output_type": "execute_result"
    }
   ],
   "source": [
    "df.sort_values(by='response_time',ascending=False)[0:10]"
   ]
  },
  {
   "cell_type": "code",
   "execution_count": 156,
   "metadata": {},
   "outputs": [
    {
     "name": "stdout",
     "output_type": "stream",
     "text": [
      "4102    http/vehicle/MarutiSuzukiSwiftVxiAbs(1298cc)(P...\n",
      "Name: searched_text, dtype: object\n"
     ]
    }
   ],
   "source": [
    "print(df.loc[[4102],'searched_text'])"
   ]
  },
  {
   "cell_type": "markdown",
   "metadata": {},
   "source": [
    "## frequency distribution(%)"
   ]
  },
  {
   "cell_type": "code",
   "execution_count": 193,
   "metadata": {},
   "outputs": [
    {
     "data": {
      "text/plain": [
       "Text(0,0.5,'frequency (%)')"
      ]
     },
     "execution_count": 193,
     "metadata": {},
     "output_type": "execute_result"
    },
    {
     "data": {
      "image/png": "[encoded data removed]",
      "text/plain": [
       "<matplotlib.figure.Figure at 0x170950850b8>"
      ]
     },
     "metadata": {},
     "output_type": "display_data"
    }
   ],
   "source": [
    "df['response_time'].plot(kind='hist',figsize=(10,8),weights=np.ones_like(df[df.columns[1]]) * 100. / len(df),\n",
    "                         xticks=[0.1,0.2,0.3,0.4,0.5,0.6,0.7,0.8,0.9,1,1.1,1.2],\n",
    "                        yticks=[10,20,30,40,50,60,70,80,90])\n",
    "plt.ylabel('frequency (%)')"
   ]
  },
  {
   "cell_type": "markdown",
   "metadata": {},
   "source": [
    "#  plotting in seaborn "
   ]
  },
  {
   "cell_type": "code",
   "execution_count": 93,
   "metadata": {
    "collapsed": true
   },
   "outputs": [],
   "source": [
    "import seaborn as sns\n",
    "sns.set(color_codes=True)"
   ]
  },
  {
   "cell_type": "code",
   "execution_count": 104,
   "metadata": {},
   "outputs": [
    {
     "data": {
      "text/plain": [
       "<matplotlib.axes._subplots.AxesSubplot at 0x170922a2c88>"
      ]
     },
     "execution_count": 104,
     "metadata": {},
     "output_type": "execute_result"
    },
    {
     "data": {
      "image/png": "[encoded data removed]",
      "text/plain": [
       "<matplotlib.figure.Figure at 0x170922a2588>"
      ]
     },
     "metadata": {},
     "output_type": "display_data"
    }
   ],
   "source": [
    "plt.figure(figsize=(20,10))\n",
    "sns.distplot(df.response_time,bins=120)"
   ]
  }
 ],
 "metadata": {
  "kernelspec": {
   "display_name": "Python 3",
   "language": "python",
   "name": "python3"
  },
  "language_info": {
   "codemirror_mode": {
    "name": "ipython",
    "version": 3
   },
   "file_extension": ".py",
   "mimetype": "text/x-python",
   "name": "python",
   "nbconvert_exporter": "python",
   "pygments_lexer": "ipython3",
   "version": "3.6.3"
  }
 },
 "nbformat": 4,
 "nbformat_minor": 2
}
